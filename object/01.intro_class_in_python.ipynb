{
 "cells": [
  {
   "cell_type": "code",
   "execution_count": 1,
   "metadata": {},
   "outputs": [
    {
     "name": "stdout",
     "output_type": "stream",
     "text": [
      "1349730826192\n",
      "1349731011296\n",
      "<class 'str'>\n",
      "<class 'function'>\n",
      "alex is a good photographer\n",
      "alex\n",
      "i am a photographer\n",
      "I AM A PHOTOGRAPHER\n"
     ]
    }
   ],
   "source": [
    "ver = \"i am a photographer\"\n",
    "def alex():\n",
    "    return \"alex is a good photographer\"\n",
    "\n",
    "print(id(ver))#wrote binery code\n",
    "print(id(alex))\n",
    "print(type(ver))#wrote which data type <class 'str'>\n",
    "print(type(alex))#wrote which data type <class 'function'>\n",
    "\n",
    "print(alex())# print function\n",
    "print(alex.__name__)#print function name\n",
    "print(ver)\n",
    "print(ver.upper())"
   ]
  },
  {
   "cell_type": "code",
   "execution_count": 9,
   "metadata": {},
   "outputs": [
    {
     "name": "stdout",
     "output_type": "stream",
     "text": [
      "<__main__.alekha_profile object at 0x000001C9520722D0>\n",
      "1964176253648\n",
      "0x1c952068110\n",
      "1964176223952\n",
      "True\n",
      "<class 'type'>\n",
      "alekha_profile\n"
     ]
    }
   ],
   "source": [
    "class alekha_profile:\n",
    "    \n",
    "    sports = \"cricket\"\n",
    "    def study():\n",
    "        return \"complete diploma in gandhi technology\"\n",
    "\n",
    "# print(alekha_profile.sports)\n",
    "# print(alekha_profile.study())\n",
    "\n",
    "my = alekha_profile() # object store in my variable\n",
    "print(my)\n",
    "print(id(my))  \n",
    "print(hex(1964176212240))\n",
    "print(int(0x000001C95206AED0))\n",
    "print(isinstance(my,alekha_profile)) #check my variable copy in alekha_prfile(object) ->True 0r False\n",
    "print(type(alekha_profile)) #check alekha_profile is which type of object ->  <class  'type'>\n",
    "print(alekha_profile.__name__)\n",
    "\n",
    "\n"
   ]
  },
  {
   "cell_type": "code",
   "execution_count": 2,
   "metadata": {},
   "outputs": [
    {
     "name": "stdout",
     "output_type": "stream",
     "text": [
      "morning wake up 7.00 am and use mobile then sleep 11.00 pm \n"
     ]
    }
   ],
   "source": [
    "def life_style(**args):\n",
    "    return f'morning wake up {args.get(\"wake_up\")} and {args.get(\"using\")} then sleep {args.get(\"sleep\")} '\n",
    "\n",
    "alekha = life_style(wake_up ='7.00 am',using = 'use mobile', sleep ='11.00 pm')\n",
    "print(alekha)"
   ]
  },
  {
   "cell_type": "code",
   "execution_count": 10,
   "metadata": {},
   "outputs": [
    {
     "name": "stdout",
     "output_type": "stream",
     "text": [
      "importent of life\n",
      "importent of life\n",
      "<function Water.coco_cola at 0x00000226F4AFB1A0>\n",
      "i am not a important but everyone drink me\n",
      "i am not a important but everyone drink me\n"
     ]
    }
   ],
   "source": [
    "class Water:\n",
    "    wat = 'importent of life'\n",
    "    def coco_cola():\n",
    "        return \"i am not a important but everyone drink me\"\n",
    "water = getattr(Water,'wat')\n",
    "bad_coco_cola = getattr(Water,'coco_cola')\n",
    "print(water)\n",
    "# print(Water.water) # class object or copy of < wat > attribute variable can't access\n",
    "print(Water.wat)\n",
    "\n",
    "\n",
    "print(bad_coco_cola) # <function Water.coco_cola at 0x00000226F4AFB1A0>\n",
    "print(Water.coco_cola())\n",
    "# print(Water.bad_coco_cola()) #class object copy of instance method < bad_coco_cola > can't access\n",
    "\n",
    "print(bad_coco_cola())"
   ]
  }
 ],
 "metadata": {
  "kernelspec": {
   "display_name": "Python 3",
   "language": "python",
   "name": "python3"
  },
  "language_info": {
   "codemirror_mode": {
    "name": "ipython",
    "version": 3
   },
   "file_extension": ".py",
   "mimetype": "text/x-python",
   "name": "python",
   "nbconvert_exporter": "python",
   "pygments_lexer": "ipython3",
   "version": "3.11.1 (tags/v3.11.1:a7a450f, Dec  6 2022, 19:58:39) [MSC v.1934 64 bit (AMD64)]"
  },
  "orig_nbformat": 4,
  "vscode": {
   "interpreter": {
    "hash": "0520da0c80da742f71c475ade54b595707b04678cb06f484a3f6a83b4953f0b3"
   }
  }
 },
 "nbformat": 4,
 "nbformat_minor": 2
}
