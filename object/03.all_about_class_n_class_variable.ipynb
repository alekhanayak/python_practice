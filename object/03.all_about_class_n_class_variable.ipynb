{
 "cells": [
  {
   "cell_type": "code",
   "execution_count": null,
   "metadata": {},
   "outputs": [],
   "source": [
    "oops\n",
    "\n",
    "1.object\n",
    "2.class\n",
    "3.instance\n",
    "4.constructor\n",
    "5.method\n",
    "6.__init__\n",
    "7.self\n",
    "8.set_attr\n",
    "9.get_attr\n",
    "10.delete_attr"
   ]
  },
  {
   "cell_type": "code",
   "execution_count": 19,
   "metadata": {},
   "outputs": [
    {
     "name": "stdout",
     "output_type": "stream",
     "text": [
      "I Am Outside Variable Or Global Variable\n",
      "i am inside class variable\n",
      "I AM UPPER VARIABLE\n",
      "alekha nayak\n",
      "24\n",
      "alekha nayak\n",
      "24\n",
      "own bussiness\n",
      "Archita puja store\n",
      "Archita puja store\n",
      "diploma\n",
      "diploma\n",
      "own bussiness\n",
      "{'inside_class': 'I am inside CLASS VARIABLE', 'objs': 'i am upper variable', 'work': 'own bussiness', 'shop_name': 'Archita puja store', 'Education': 'diploma'}\n"
     ]
    }
   ],
   "source": [
    "outside_verb = \"i am outside variable or global variable\"\n",
    "\n",
    "class obj:\n",
    "    # instance\n",
    "    # inside_verb = \" i am a inside variable or local variable\" \n",
    "    my_name = 'alekha nayak'\n",
    "    age = 24\n",
    "    def __init__(self,objs):\n",
    "        self.inside_class = 'I am inside CLASS VARIABLE'\n",
    "        self.objs = objs\n",
    "\n",
    "        # method\n",
    "    def title(self):\n",
    "        return outside_verb.title()\n",
    "    def lower(self):\n",
    "        return self.inside_class.lower()\n",
    "    def upper(self):\n",
    "        return self.objs.upper()\n",
    "        def capitalizes(self):\n",
    "            return f'i am {self.my_name}'\n",
    "\n",
    "# constructor\n",
    "objects = obj('i am upper variable')\n",
    "\n",
    "print(objects.title())\n",
    "print(objects.lower())\n",
    "print(objects.upper())\n",
    "# print(objects.capitalize())\n",
    "\n",
    "print(objects.my_name)\n",
    "print(objects.age)\n",
    "print(objects.__getattribute__('my_name'))\n",
    "print(getattr(objects,'age'))\n",
    "\n",
    "\n",
    "objects.work = 'own bussiness'\n",
    "objects.__setattr__('shop_name','Archita puja store')\n",
    "objects.__dict__['Education'] = 'diploma'\n",
    "print(objects.work)\n",
    "print(objects.__getattribute__('shop_name'))\n",
    "print(objects.shop_name)\n",
    "print(objects.Education)\n",
    "print(objects.__getattribute__('Education'))\n",
    "\n",
    "# objects.__delattr__('work')\n",
    "print(objects.work)\n",
    "\n",
    "\n",
    "print(objects.__dict__)# to get all the attribute inside the class\n",
    "\n",
    "\n",
    "\n",
    "\n",
    "        \n",
    "\n",
    "\n"
   ]
  },
  {
   "cell_type": "code",
   "execution_count": 7,
   "metadata": {},
   "outputs": [
    {
     "name": "stdout",
     "output_type": "stream",
     "text": [
      "i am Alekha Nayak my age 24 and my job Photographer and i am from berhampur\n",
      "__main__\n",
      "Profile\n"
     ]
    }
   ],
   "source": [
    "class Profile:\n",
    "    def __init__(self,name,age,job,location):\n",
    "        self.name = name\n",
    "        self.age = age\n",
    "        self.job = job\n",
    "        self.location = location\n",
    "    def getDetails(self):\n",
    "        return f'i am {self.name} my age {self.age} and my job {self.job} and i am from {self.location}'\n",
    "\n",
    "\n",
    "Myprofile = Profile('alekha nayak'.title(),24,'photographer'.capitalize(),'berhampur')\n",
    "print(Profile.getDetails(Myprofile))\n",
    "print(__name__)\n",
    "print(Profile.__name__)\n",
    "# print(Myprofile.__name__) #this variable copy of class object(Profile) __name__ only show class object or then 'Profile' object has no attribute '__name__'(AttributeError)"
   ]
  },
  {
   "cell_type": "code",
   "execution_count": null,
   "metadata": {},
   "outputs": [],
   "source": []
  }
 ],
 "metadata": {
  "kernelspec": {
   "display_name": "Python 3",
   "language": "python",
   "name": "python3"
  },
  "language_info": {
   "codemirror_mode": {
    "name": "ipython",
    "version": 3
   },
   "file_extension": ".py",
   "mimetype": "text/x-python",
   "name": "python",
   "nbconvert_exporter": "python",
   "pygments_lexer": "ipython3",
   "version": "3.11.1"
  },
  "orig_nbformat": 4,
  "vscode": {
   "interpreter": {
    "hash": "0520da0c80da742f71c475ade54b595707b04678cb06f484a3f6a83b4953f0b3"
   }
  }
 },
 "nbformat": 4,
 "nbformat_minor": 2
}
