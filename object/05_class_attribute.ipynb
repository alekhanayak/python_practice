{
 "cells": [
  {
   "cell_type": "code",
   "execution_count": 17,
   "metadata": {},
   "outputs": [
    {
     "name": "stdout",
     "output_type": "stream",
     "text": [
      "<__main__.Circle object at 0x000001BBB8546750>\n",
      "<class '__main__.Circle'>\n",
      "3.141\n",
      "3.141\n",
      "314.1\n",
      "62.82\n",
      "3.141\n",
      "<function Circle.__init__ at 0x000001BBB8B002C0>\n"
     ]
    }
   ],
   "source": [
    "class Circle:\n",
    "    #class attribute\n",
    "    PII = 3.141\n",
    "\n",
    "    # instance attribute \n",
    "    def __init__(self,radius):\n",
    "        self.pi = 3.141\n",
    "        self.radius = radius\n",
    "\n",
    "    #instance method\n",
    "    def area(self):\n",
    "        return self.pi * self.radius**2\n",
    "\n",
    "    def circumference(self):\n",
    "        return 2*self.pi * self.radius\n",
    "\n",
    "# constructor\n",
    "circle =Circle(10) # when you create constructer  Circle object copy circle access any:(class attr),(instance method) in instance attribute\n",
    "# but__main__ circle can't access (instance method or intance attribute )\n",
    "\n",
    "\n",
    "print(circle) #<__main__.Circle object at 0x000001BBB6EFD990>\n",
    "print(Circle) # <class '__main__.Circle'>\n",
    "\n",
    "print(Circle.PII)\n",
    "print(circle.PII)\n",
    "# print(Circle.area())\n",
    "print(circle.area())\n",
    "print(Circle.circumference(circle))\n",
    "print(circle.pi)\n",
    "# print(Circle.pi)\n",
    "\n"
   ]
  },
  {
   "cell_type": "code",
   "execution_count": null,
   "metadata": {},
   "outputs": [],
   "source": []
  }
 ],
 "metadata": {
  "kernelspec": {
   "display_name": "Python 3",
   "language": "python",
   "name": "python3"
  },
  "language_info": {
   "codemirror_mode": {
    "name": "ipython",
    "version": 3
   },
   "file_extension": ".py",
   "mimetype": "text/x-python",
   "name": "python",
   "nbconvert_exporter": "python",
   "pygments_lexer": "ipython3",
   "version": "3.11.1"
  },
  "orig_nbformat": 4,
  "vscode": {
   "interpreter": {
    "hash": "0520da0c80da742f71c475ade54b595707b04678cb06f484a3f6a83b4953f0b3"
   }
  }
 },
 "nbformat": 4,
 "nbformat_minor": 2
}
