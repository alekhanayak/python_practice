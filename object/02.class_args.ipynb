{
 "cells": [
  {
   "cell_type": "code",
   "execution_count": 5,
   "metadata": {},
   "outputs": [
    {
     "name": "stdout",
     "output_type": "stream",
     "text": [
      " my 10th class friends alekha nayak, 2015 last year of 10th\n"
     ]
    }
   ],
   "source": [
    "class Myfrds:\n",
    "    year = 2015\n",
    "    def __init__(self,name):\n",
    "        self.end = 2015\n",
    "        self.alekha = name\n",
    "    def getFriends(self):\n",
    "        \n",
    "        return f\" my 10th class friends {self.alekha}, {self.end} last year of 10th\"\n",
    "    \n",
    "friend  =Myfrds('alekha nayak')\n",
    "print(friend.getFriends()) "
   ]
  },
  {
   "cell_type": "code",
   "execution_count": 7,
   "metadata": {},
   "outputs": [
    {
     "name": "stdout",
     "output_type": "stream",
     "text": [
      "sum of 50 + 25 = 75\n",
      "substraction of 50 - 25 = 25\n",
      "multiple of 50 x 25 = 1250\n",
      "division of 50 / 25 = 2.0\n"
     ]
    }
   ],
   "source": [
    "class Calculator:\n",
    "    def __init__(self,num1:int,num2:int):\n",
    "        self.num_1 = num1\n",
    "        self.num_2 = num2\n",
    "    def addition(self):\n",
    "        return f'sum of {self.num_1} + {self.num_2} = {self.num_1+self.num_2}'\n",
    "    def substraction(self)->str:\n",
    "        return f'substraction of {self.num_1} - {self.num_2} = {self.num_1-self.num_2}'\n",
    "    def multiplication(self)->str:\n",
    "        return f'multiple of {self.num_1} x {self.num_2} = {self.num_1*self.num_2}'\n",
    "    def division(self)->str:\n",
    "        return f'division of {self.num_1} / {self.num_2} = {self.num_1/self.num_2}'\n",
    "\n",
    "calc = Calculator(50,25)\n",
    "print(calc.addition())\n",
    "print(calc.substraction())\n",
    "print(calc.multiplication())\n",
    "print(calc.division())"
   ]
  }
 ],
 "metadata": {
  "kernelspec": {
   "display_name": "Python 3",
   "language": "python",
   "name": "python3"
  },
  "language_info": {
   "codemirror_mode": {
    "name": "ipython",
    "version": 3
   },
   "file_extension": ".py",
   "mimetype": "text/x-python",
   "name": "python",
   "nbconvert_exporter": "python",
   "pygments_lexer": "ipython3",
   "version": "3.11.1"
  },
  "orig_nbformat": 4,
  "vscode": {
   "interpreter": {
    "hash": "0520da0c80da742f71c475ade54b595707b04678cb06f484a3f6a83b4953f0b3"
   }
  }
 },
 "nbformat": 4,
 "nbformat_minor": 2
}
